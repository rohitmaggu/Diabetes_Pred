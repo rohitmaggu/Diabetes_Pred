{
  "nbformat": 4,
  "nbformat_minor": 0,
  "metadata": {
    "colab": {
      "name": "diab_pred.ipynb",
      "provenance": [],
      "collapsed_sections": [],
      "toc_visible": true,
      "include_colab_link": true
    },
    "kernelspec": {
      "name": "python3",
      "display_name": "Python 3"
    }
  },
  "cells": [
    {
      "cell_type": "markdown",
      "metadata": {
        "id": "view-in-github",
        "colab_type": "text"
      },
      "source": [
        "<a href=\"https://colab.research.google.com/github/rohitmaggu/Diabetes_Pred/blob/master/diab_pred.ipynb\" target=\"_parent\"><img src=\"https://colab.research.google.com/assets/colab-badge.svg\" alt=\"Open In Colab\"/></a>"
      ]
    },
    {
      "cell_type": "code",
      "metadata": {
        "id": "N6TxvzVvcudu",
        "colab_type": "code",
        "outputId": "c57845bf-ef31-4b6c-d4d2-e42831ed0c02",
        "colab": {
          "base_uri": "https://localhost:8080/",
          "height": 54
        }
      },
      "source": [
        "#comment this cell if usig jupyter or spyder\n",
        "from google.colab import drive\n",
        "drive.mount('/content/drive')\n"
      ],
      "execution_count": 0,
      "outputs": [
        {
          "output_type": "stream",
          "text": [
            "Drive already mounted at /content/drive; to attempt to forcibly remount, call drive.mount(\"/content/drive\", force_remount=True).\n"
          ],
          "name": "stdout"
        }
      ]
    },
    {
      "cell_type": "code",
      "metadata": {
        "id": "cY4lKcQHZ8BI",
        "colab_type": "code",
        "colab": {}
      },
      "source": [
        "import pandas as pd\n",
        "import numpy as np\n",
        "import matplotlib.pyplot as plt\n",
        "%matplotlib inline"
      ],
      "execution_count": 0,
      "outputs": []
    },
    {
      "cell_type": "code",
      "metadata": {
        "id": "JJ6fqkFGbME5",
        "colab_type": "code",
        "outputId": "bdea6a73-3abf-49e4-afe3-1fdeb915c35b",
        "colab": {
          "base_uri": "https://localhost:8080/",
          "height": 68
        }
      },
      "source": [
        "#for jupyter or spyder, the dataset is already given thus import directly\n",
        "diabetes = pd.read_csv(\"/content/drive/My Drive/diabetes/diabetes.csv\")\n",
        "print(diabetes.columns)"
      ],
      "execution_count": 0,
      "outputs": [
        {
          "output_type": "stream",
          "text": [
            "Index(['Pregnancies', 'Glucose', 'BloodPressure', 'SkinThickness', 'Insulin',\n",
            "       'BMI', 'DiabetesPedigreeFunction', 'Age', 'Outcome'],\n",
            "      dtype='object')\n"
          ],
          "name": "stdout"
        }
      ]
    },
    {
      "cell_type": "markdown",
      "metadata": {
        "id": "JkI-ygYmn8Pd",
        "colab_type": "text"
      },
      "source": [
        "\n"
      ]
    },
    {
      "cell_type": "markdown",
      "metadata": {
        "id": "Zys6OhM_opCj",
        "colab_type": "text"
      },
      "source": [
        "**Data Analyzation**"
      ]
    },
    {
      "cell_type": "code",
      "metadata": {
        "id": "PCilshJrbqCI",
        "colab_type": "code",
        "outputId": "29d23cef-ec61-4d48-d2c1-c32e618e87c3",
        "colab": {
          "base_uri": "https://localhost:8080/",
          "height": 224
        }
      },
      "source": [
        "diabetes.head()"
      ],
      "execution_count": 0,
      "outputs": [
        {
          "output_type": "execute_result",
          "data": {
            "text/html": [
              "<div>\n",
              "<style scoped>\n",
              "    .dataframe tbody tr th:only-of-type {\n",
              "        vertical-align: middle;\n",
              "    }\n",
              "\n",
              "    .dataframe tbody tr th {\n",
              "        vertical-align: top;\n",
              "    }\n",
              "\n",
              "    .dataframe thead th {\n",
              "        text-align: right;\n",
              "    }\n",
              "</style>\n",
              "<table border=\"1\" class=\"dataframe\">\n",
              "  <thead>\n",
              "    <tr style=\"text-align: right;\">\n",
              "      <th></th>\n",
              "      <th>Pregnancies</th>\n",
              "      <th>Glucose</th>\n",
              "      <th>BloodPressure</th>\n",
              "      <th>SkinThickness</th>\n",
              "      <th>Insulin</th>\n",
              "      <th>BMI</th>\n",
              "      <th>DiabetesPedigreeFunction</th>\n",
              "      <th>Age</th>\n",
              "      <th>Outcome</th>\n",
              "    </tr>\n",
              "  </thead>\n",
              "  <tbody>\n",
              "    <tr>\n",
              "      <th>0</th>\n",
              "      <td>6</td>\n",
              "      <td>148</td>\n",
              "      <td>72</td>\n",
              "      <td>35</td>\n",
              "      <td>0</td>\n",
              "      <td>33.6</td>\n",
              "      <td>0.627</td>\n",
              "      <td>50</td>\n",
              "      <td>1</td>\n",
              "    </tr>\n",
              "    <tr>\n",
              "      <th>1</th>\n",
              "      <td>1</td>\n",
              "      <td>85</td>\n",
              "      <td>66</td>\n",
              "      <td>29</td>\n",
              "      <td>0</td>\n",
              "      <td>26.6</td>\n",
              "      <td>0.351</td>\n",
              "      <td>31</td>\n",
              "      <td>0</td>\n",
              "    </tr>\n",
              "    <tr>\n",
              "      <th>2</th>\n",
              "      <td>8</td>\n",
              "      <td>183</td>\n",
              "      <td>64</td>\n",
              "      <td>0</td>\n",
              "      <td>0</td>\n",
              "      <td>23.3</td>\n",
              "      <td>0.672</td>\n",
              "      <td>32</td>\n",
              "      <td>1</td>\n",
              "    </tr>\n",
              "    <tr>\n",
              "      <th>3</th>\n",
              "      <td>1</td>\n",
              "      <td>89</td>\n",
              "      <td>66</td>\n",
              "      <td>23</td>\n",
              "      <td>94</td>\n",
              "      <td>28.1</td>\n",
              "      <td>0.167</td>\n",
              "      <td>21</td>\n",
              "      <td>0</td>\n",
              "    </tr>\n",
              "    <tr>\n",
              "      <th>4</th>\n",
              "      <td>0</td>\n",
              "      <td>137</td>\n",
              "      <td>40</td>\n",
              "      <td>35</td>\n",
              "      <td>168</td>\n",
              "      <td>43.1</td>\n",
              "      <td>2.288</td>\n",
              "      <td>33</td>\n",
              "      <td>1</td>\n",
              "    </tr>\n",
              "  </tbody>\n",
              "</table>\n",
              "</div>"
            ],
            "text/plain": [
              "   Pregnancies  Glucose  BloodPressure  ...  DiabetesPedigreeFunction  Age  Outcome\n",
              "0            6      148             72  ...                     0.627   50        1\n",
              "1            1       85             66  ...                     0.351   31        0\n",
              "2            8      183             64  ...                     0.672   32        1\n",
              "3            1       89             66  ...                     0.167   21        0\n",
              "4            0      137             40  ...                     2.288   33        1\n",
              "\n",
              "[5 rows x 9 columns]"
            ]
          },
          "metadata": {
            "tags": []
          },
          "execution_count": 48
        }
      ]
    },
    {
      "cell_type": "markdown",
      "metadata": {
        "id": "EHV45Xw-i-TN",
        "colab_type": "text"
      },
      "source": [
        "**The diabetes dataset consists of 768 data points, with 9 features each**"
      ]
    },
    {
      "cell_type": "code",
      "metadata": {
        "id": "swxFgsMaiuS1",
        "colab_type": "code",
        "outputId": "189d0336-77d1-42b4-bc48-41225c9cd2f6",
        "colab": {
          "base_uri": "https://localhost:8080/",
          "height": 34
        }
      },
      "source": [
        "print(\"dimension of diabetes data: {}\".format(diabetes.shape))\n"
      ],
      "execution_count": 0,
      "outputs": [
        {
          "output_type": "stream",
          "text": [
            "dimension of diabetes data: (768, 9)\n"
          ],
          "name": "stdout"
        }
      ]
    },
    {
      "cell_type": "markdown",
      "metadata": {
        "id": "oK_StHKLmXpo",
        "colab_type": "text"
      },
      "source": [
        "**Outcome 0 means No diabetes, outcome 1 means diabetes**\n",
        "\n",
        "Of these 768 data points, 500 are labeled as 0 and 268 as 1:"
      ]
    },
    {
      "cell_type": "code",
      "metadata": {
        "id": "RSOVqf9dmMzR",
        "colab_type": "code",
        "outputId": "59351784-0b01-45d3-fcf9-bfe84a4fba2f",
        "colab": {
          "base_uri": "https://localhost:8080/",
          "height": 85
        }
      },
      "source": [
        "print(diabetes.groupby('Outcome').size())\n"
      ],
      "execution_count": 0,
      "outputs": [
        {
          "output_type": "stream",
          "text": [
            "Outcome\n",
            "0    500\n",
            "1    268\n",
            "dtype: int64\n"
          ],
          "name": "stdout"
        }
      ]
    },
    {
      "cell_type": "code",
      "metadata": {
        "id": "BIxIgWfDm47p",
        "colab_type": "code",
        "outputId": "ff2c8069-20bd-4d55-c762-536b1457f87f",
        "colab": {
          "base_uri": "https://localhost:8080/",
          "height": 296
        }
      },
      "source": [
        "import seaborn as sns\n",
        "\n",
        "sns.countplot(diabetes['Outcome'],label=\"Count\")"
      ],
      "execution_count": 0,
      "outputs": [
        {
          "output_type": "execute_result",
          "data": {
            "text/plain": [
              "<matplotlib.axes._subplots.AxesSubplot at 0x7f2eae68b2e8>"
            ]
          },
          "metadata": {
            "tags": []
          },
          "execution_count": 51
        },
        {
          "output_type": "display_data",
          "data": {
            "image/png": "[encoded data removed]",
            "text/plain": [
              "<Figure size 432x288 with 1 Axes>"
            ]
          },
          "metadata": {
            "tags": []
          }
        }
      ]
    },
    {
      "cell_type": "code",
      "metadata": {
        "id": "NL7iBIfnn0BX",
        "colab_type": "code",
        "outputId": "94e95c3d-606e-4ef0-f11a-d0486ea78252",
        "colab": {
          "base_uri": "https://localhost:8080/",
          "height": 255
        }
      },
      "source": [
        "diabetes.info()"
      ],
      "execution_count": 0,
      "outputs": [
        {
          "output_type": "stream",
          "text": [
            "<class 'pandas.core.frame.DataFrame'>\n",
            "RangeIndex: 768 entries, 0 to 767\n",
            "Data columns (total 9 columns):\n",
            "Pregnancies                 768 non-null int64\n",
            "Glucose                     768 non-null int64\n",
            "BloodPressure               768 non-null int64\n",
            "SkinThickness               768 non-null int64\n",
            "Insulin                     768 non-null int64\n",
            "BMI                         768 non-null float64\n",
            "DiabetesPedigreeFunction    768 non-null float64\n",
            "Age                         768 non-null int64\n",
            "Outcome                     768 non-null int64\n",
            "dtypes: float64(2), int64(7)\n",
            "memory usage: 54.1 KB\n"
          ],
          "name": "stdout"
        }
      ]
    },
    {
      "cell_type": "markdown",
      "metadata": {
        "id": "jYKJZdUCqULt",
        "colab_type": "text"
      },
      "source": [
        "**K-Nearest Neighbors**\n",
        "\n",
        "The k-NN algorithm is arguably the simplest machine learning algorithm. Building the model consists only of storing the training dataset. To make a prediction for a new data point, the algorithm finds the closest data points in the training dataset—its “nearest neighbors.”"
      ]
    },
    {
      "cell_type": "markdown",
      "metadata": {
        "id": "DEVHYv3cqpFk",
        "colab_type": "text"
      },
      "source": [
        "**Let’s investigate whether we can confirm the connection between model complexity and accuracy**"
      ]
    },
    {
      "cell_type": "code",
      "metadata": {
        "id": "x3Fev-MJqCz9",
        "colab_type": "code",
        "colab": {}
      },
      "source": [
        "from sklearn.model_selection import train_test_split\n",
        "\n",
        "X_train, X_test, y_train, y_test = train_test_split(diabetes.loc[:, diabetes.columns != 'Outcome'], diabetes['Outcome'], stratify=diabetes['Outcome'], random_state=66)\n"
      ],
      "execution_count": 0,
      "outputs": []
    },
    {
      "cell_type": "code",
      "metadata": {
        "id": "UQrW34RI4vMv",
        "colab_type": "code",
        "outputId": "82ccf345-8f31-4472-d97e-8bd0fe9737b7",
        "colab": {
          "base_uri": "https://localhost:8080/",
          "height": 280
        }
      },
      "source": [
        "from sklearn.neighbors import KNeighborsClassifier\n",
        "\n",
        "training_accuracy = []\n",
        "test_accuracy = []\n",
        "# try n_neighbors from 1 to 10\n",
        "neighbors_settings = range(1, 11)\n",
        "\n",
        "for n_neighbors in neighbors_settings:\n",
        "    # build the model\n",
        "    knn = KNeighborsClassifier(n_neighbors=n_neighbors)\n",
        "    knn.fit(X_train, y_train)\n",
        "    # record training set accuracy\n",
        "    training_accuracy.append(knn.score(X_train, y_train))\n",
        "    # record test set accuracy\n",
        "    test_accuracy.append(knn.score(X_test, y_test))\n",
        "\n",
        "plt.plot(neighbors_settings, training_accuracy, label=\"training accuracy\")\n",
        "plt.plot(neighbors_settings, test_accuracy, label=\"test accuracy\")\n",
        "plt.ylabel(\"Accuracy\")\n",
        "plt.xlabel(\"n_neighbors\")\n",
        "plt.legend()\n",
        "plt.savefig('knn_compare_model')"
      ],
      "execution_count": 0,
      "outputs": [
        {
          "output_type": "display_data",
          "data": {
            "image/png": "[encoded data removed]",
            "text/plain": [
              "<Figure size 432x288 with 1 Axes>"
            ]
          },
          "metadata": {
            "tags": []
          }
        }
      ]
    },
    {
      "cell_type": "markdown",
      "metadata": {
        "id": "UK5tSB3B2WtA",
        "colab_type": "text"
      },
      "source": [
        "The plot shows the training and test set accuracy on the y-axis against the setting of n_neighbors on the x-axis. Considering if we choose one single nearest neighbor, the prediction on the training set is perfect. But when more neighbors are considered, the training accuracy drops, indicating that using the single nearest neighbor leads to a model that is too complex. The best performance is somewhere around 9 neighbors.\n",
        "\n",
        "**The above plot suggests that we should choose n_neighbors=9. Here we are:**"
      ]
    },
    {
      "cell_type": "code",
      "metadata": {
        "id": "VaIXAkoExHlQ",
        "colab_type": "code",
        "outputId": "7ffe9d03-d04b-44d7-da21-4c16d2a322ea",
        "colab": {
          "base_uri": "https://localhost:8080/",
          "height": 51
        }
      },
      "source": [
        "knn = KNeighborsClassifier(n_neighbors=9)\n",
        "knn.fit(X_train, y_train)\n",
        "\n",
        "print('Accuracy of K-NN classifier on training set: {:.2f}'.format(knn.score(X_train, y_train)))\n",
        "print('Accuracy of K-NN classifier on test set: {:.2f}'.format(knn.score(X_test, y_test)))"
      ],
      "execution_count": 0,
      "outputs": [
        {
          "output_type": "stream",
          "text": [
            "Accuracy of K-NN classifier on training set: 0.79\n",
            "Accuracy of K-NN classifier on test set: 0.78\n"
          ],
          "name": "stdout"
        }
      ]
    },
    {
      "cell_type": "markdown",
      "metadata": {
        "id": "2DFlKDaV2UjQ",
        "colab_type": "text"
      },
      "source": [
        "**Logistic Regression**\n",
        "\n",
        "Logistic regression is one of the most common classification algorithms."
      ]
    },
    {
      "cell_type": "code",
      "metadata": {
        "id": "57_tgzU32xBK",
        "colab_type": "code",
        "outputId": "b8fb2a92-8d40-4c4b-b99e-0a37ecabfcbb",
        "colab": {
          "base_uri": "https://localhost:8080/",
          "height": 207
        }
      },
      "source": [
        "from sklearn.linear_model import LogisticRegression\n",
        "\n",
        "logreg = LogisticRegression().fit(X_train, y_train)\n",
        "print(\"Training set accuracy: {:.3f}\".format(logreg.score(X_train, y_train)))\n",
        "print(\"Test set accuracy: {:.3f}\".format(logreg.score(X_test, y_test)))"
      ],
      "execution_count": 0,
      "outputs": [
        {
          "output_type": "stream",
          "text": [
            "Training set accuracy: 0.785\n",
            "Test set accuracy: 0.771\n"
          ],
          "name": "stdout"
        },
        {
          "output_type": "stream",
          "text": [
            "/usr/local/lib/python3.6/dist-packages/sklearn/linear_model/_logistic.py:940: ConvergenceWarning: lbfgs failed to converge (status=1):\n",
            "STOP: TOTAL NO. of ITERATIONS REACHED LIMIT.\n",
            "\n",
            "Increase the number of iterations (max_iter) or scale the data as shown in:\n",
            "    https://scikit-learn.org/stable/modules/preprocessing.html\n",
            "Please also refer to the documentation for alternative solver options:\n",
            "    https://scikit-learn.org/stable/modules/linear_model.html#logistic-regression\n",
            "  extra_warning_msg=_LOGISTIC_SOLVER_CONVERGENCE_MSG)\n"
          ],
          "name": "stderr"
        }
      ]
    },
    {
      "cell_type": "markdown",
      "metadata": {
        "id": "66janva_6We4",
        "colab_type": "text"
      },
      "source": [
        "The default value of C=1 provides with 78% accuracy on training and 77% accuracy on test set."
      ]
    },
    {
      "cell_type": "code",
      "metadata": {
        "id": "qS8FzJzt239j",
        "colab_type": "code",
        "outputId": "880a10d8-8622-4274-b402-98bf317a7474",
        "colab": {
          "base_uri": "https://localhost:8080/",
          "height": 207
        }
      },
      "source": [
        "logreg001 = LogisticRegression(C=0.01).fit(X_train, y_train)\n",
        "print(\"Training set accuracy: {:.3f}\".format(logreg001.score(X_train, y_train)))\n",
        "print(\"Test set accuracy: {:.3f}\".format(logreg001.score(X_test, y_test)))"
      ],
      "execution_count": 0,
      "outputs": [
        {
          "output_type": "stream",
          "text": [
            "Training set accuracy: 0.762\n",
            "Test set accuracy: 0.760\n"
          ],
          "name": "stdout"
        },
        {
          "output_type": "stream",
          "text": [
            "/usr/local/lib/python3.6/dist-packages/sklearn/linear_model/_logistic.py:940: ConvergenceWarning: lbfgs failed to converge (status=1):\n",
            "STOP: TOTAL NO. of ITERATIONS REACHED LIMIT.\n",
            "\n",
            "Increase the number of iterations (max_iter) or scale the data as shown in:\n",
            "    https://scikit-learn.org/stable/modules/preprocessing.html\n",
            "Please also refer to the documentation for alternative solver options:\n",
            "    https://scikit-learn.org/stable/modules/linear_model.html#logistic-regression\n",
            "  extra_warning_msg=_LOGISTIC_SOLVER_CONVERGENCE_MSG)\n"
          ],
          "name": "stderr"
        }
      ]
    },
    {
      "cell_type": "markdown",
      "metadata": {
        "id": "S6Jk-QHC6snX",
        "colab_type": "text"
      },
      "source": [
        "Using C=0.01 results in lower accuracy on both the training and the test sets."
      ]
    },
    {
      "cell_type": "code",
      "metadata": {
        "id": "5lLT7JNJ6anU",
        "colab_type": "code",
        "outputId": "cc87927f-68bb-4073-8d69-3d92803e2539",
        "colab": {
          "base_uri": "https://localhost:8080/",
          "height": 207
        }
      },
      "source": [
        "logreg100 = LogisticRegression(C=100).fit(X_train, y_train)\n",
        "print(\"Training set accuracy: {:.3f}\".format(logreg100.score(X_train, y_train)))\n",
        "print(\"Test set accuracy: {:.3f}\".format(logreg100.score(X_test, y_test)))"
      ],
      "execution_count": 0,
      "outputs": [
        {
          "output_type": "stream",
          "text": [
            "Training set accuracy: 0.783\n",
            "Test set accuracy: 0.781\n"
          ],
          "name": "stdout"
        },
        {
          "output_type": "stream",
          "text": [
            "/usr/local/lib/python3.6/dist-packages/sklearn/linear_model/_logistic.py:940: ConvergenceWarning: lbfgs failed to converge (status=1):\n",
            "STOP: TOTAL NO. of ITERATIONS REACHED LIMIT.\n",
            "\n",
            "Increase the number of iterations (max_iter) or scale the data as shown in:\n",
            "    https://scikit-learn.org/stable/modules/preprocessing.html\n",
            "Please also refer to the documentation for alternative solver options:\n",
            "    https://scikit-learn.org/stable/modules/linear_model.html#logistic-regression\n",
            "  extra_warning_msg=_LOGISTIC_SOLVER_CONVERGENCE_MSG)\n"
          ],
          "name": "stderr"
        }
      ]
    },
    {
      "cell_type": "markdown",
      "metadata": {
        "id": "R9zYpNte74Nw",
        "colab_type": "text"
      },
      "source": [
        "Using C=100 results in a little bit lesser accuracy on training set little bit higher accuracy on test set, confirming that at C=100, the model generalizes better than default setting.\n",
        "\n",
        "Therefore, we should choose default value C=100.\n",
        "\n",
        "Finally, let’s look at the coefficients learned by the models with the three different settings of the regularization parameter C.\n",
        "\n",
        "Stronger regularization (C=0.001) pushes coefficients more and more toward zero. Inspecting the plot more closely, we can also see that feature “DiabetesPedigreeFunction”, for C=100, C=1 and C=0.001, the coefficient is positive. This indicates that high “DiabetesPedigreeFunction” feature is related to a sample being “diabetes”, regardless which model we look at."
      ]
    },
    {
      "cell_type": "code",
      "metadata": {
        "id": "GELvTDUYBJ6G",
        "colab_type": "code",
        "outputId": "09efee4c-405f-4451-a828-8e7f3ce4ac3a",
        "colab": {
          "base_uri": "https://localhost:8080/",
          "height": 510
        }
      },
      "source": [
        "diabetes_features = [x for i,x in enumerate(diabetes.columns) if i!=8]\n",
        "\n",
        "plt.figure(figsize=(8,6))\n",
        "plt.plot(logreg.coef_.T, 'o', label=\"C=1\")\n",
        "plt.plot(logreg100.coef_.T, '^', label=\"C=100\")\n",
        "plt.plot(logreg001.coef_.T, 'v', label=\"C=0.001\")\n",
        "plt.xticks(range(diabetes.shape[1]), diabetes_features, rotation=90)\n",
        "plt.hlines(0, 0, diabetes.shape[1])\n",
        "plt.ylim(-5, 5)\n",
        "plt.xlabel(\"Feature\")\n",
        "plt.ylabel(\"Coefficient magnitude\")\n",
        "plt.legend()\n",
        "plt.savefig('log_coef')"
      ],
      "execution_count": 0,
      "outputs": [
        {
          "output_type": "display_data",
          "data": {
            "image/png": "[encoded data removed]",
            "text/plain": [
              "<Figure size 576x432 with 1 Axes>"
            ]
          },
          "metadata": {
            "tags": []
          }
        }
      ]
    },
    {
      "cell_type": "markdown",
      "metadata": {
        "id": "cCSoz2nzC8gq",
        "colab_type": "text"
      },
      "source": [
        "**Decision Tree**"
      ]
    },
    {
      "cell_type": "code",
      "metadata": {
        "id": "QckvVYMGBMy7",
        "colab_type": "code",
        "outputId": "b4ead3c9-3fe2-4771-d78a-eef7df690286",
        "colab": {
          "base_uri": "https://localhost:8080/",
          "height": 51
        }
      },
      "source": [
        "from sklearn.tree import DecisionTreeClassifier\n",
        "\n",
        "tree = DecisionTreeClassifier(random_state=0)\n",
        "tree.fit(X_train, y_train)\n",
        "print(\"Accuracy on training set: {:.3f}\".format(tree.score(X_train, y_train)))\n",
        "print(\"Accuracy on test set: {:.3f}\".format(tree.score(X_test, y_test)))"
      ],
      "execution_count": 0,
      "outputs": [
        {
          "output_type": "stream",
          "text": [
            "Accuracy on training set: 1.000\n",
            "Accuracy on test set: 0.714\n"
          ],
          "name": "stdout"
        }
      ]
    },
    {
      "cell_type": "markdown",
      "metadata": {
        "id": "m2aa-_IrDM8W",
        "colab_type": "text"
      },
      "source": [
        "The accuracy on the training set is 100%, while the test set accuracy is much worse. This is an indicative that the tree is overfitting and not generalizing well to new data. Therefore, we need to apply pre-pruning to the tree.\n",
        "\n",
        "We set max_depth=3, limiting the depth of the tree decreases overfitting. This leads to a lower accuracy on the training set, but an improvement on the test set."
      ]
    },
    {
      "cell_type": "code",
      "metadata": {
        "id": "lzfiZtjSCn2M",
        "colab_type": "code",
        "outputId": "fe710b52-f7f8-48c9-fa1f-181204f6ad68",
        "colab": {
          "base_uri": "https://localhost:8080/",
          "height": 51
        }
      },
      "source": [
        "tree = DecisionTreeClassifier(max_depth=3, random_state=0)\n",
        "tree.fit(X_train, y_train)\n",
        "\n",
        "print(\"Accuracy on training set: {:.3f}\".format(tree.score(X_train, y_train)))\n",
        "print(\"Accuracy on test set: {:.3f}\".format(tree.score(X_test, y_test)))"
      ],
      "execution_count": 0,
      "outputs": [
        {
          "output_type": "stream",
          "text": [
            "Accuracy on training set: 0.773\n",
            "Accuracy on test set: 0.740\n"
          ],
          "name": "stdout"
        }
      ]
    },
    {
      "cell_type": "markdown",
      "metadata": {
        "id": "Sb56Iaz9Dy6V",
        "colab_type": "text"
      },
      "source": [
        "**Feature importance in Decision trees**\n",
        "\n",
        "Feature importance rates how important each feature is for the decision a tree makes. It is a number between 0 and 1 for each feature, where 0 means “not used at all” and 1 means “perfectly predicts the target.” The feature importances always sum to 1:"
      ]
    },
    {
      "cell_type": "code",
      "metadata": {
        "id": "tTGLHRWNDRqW",
        "colab_type": "code",
        "outputId": "865544d6-2a8c-4bfe-d470-7372ed9c2580",
        "colab": {
          "base_uri": "https://localhost:8080/",
          "height": 68
        }
      },
      "source": [
        "print(\"Feature importances:\\n{}\".format(tree.feature_importances_))"
      ],
      "execution_count": 0,
      "outputs": [
        {
          "output_type": "stream",
          "text": [
            "Feature importances:\n",
            "[0.04554275 0.6830362  0.         0.         0.         0.27142106\n",
            " 0.         0.        ]\n"
          ],
          "name": "stdout"
        }
      ]
    },
    {
      "cell_type": "markdown",
      "metadata": {
        "id": "k0301VnCECpv",
        "colab_type": "text"
      },
      "source": [
        "We can then visualize the feature importances."
      ]
    },
    {
      "cell_type": "code",
      "metadata": {
        "id": "W0LhvCghD-zc",
        "colab_type": "code",
        "outputId": "d39b725d-3a80-4199-bf4d-bf770d20d2b2",
        "colab": {
          "base_uri": "https://localhost:8080/",
          "height": 388
        }
      },
      "source": [
        "def plot_feature_importances_diabetes(model):\n",
        "    plt.figure(figsize=(8,6))\n",
        "    n_features = 8\n",
        "    plt.barh(range(n_features), model.feature_importances_, align='center')\n",
        "    plt.yticks(np.arange(n_features), diabetes_features)\n",
        "    plt.xlabel(\"Feature importance\")\n",
        "    plt.ylabel(\"Feature\")\n",
        "    plt.ylim(-1, n_features)\n",
        "\n",
        "plot_feature_importances_diabetes(tree)\n",
        "plt.savefig('feature_importance_dt')"
      ],
      "execution_count": 0,
      "outputs": [
        {
          "output_type": "display_data",
          "data": {
            "image/png": "[encoded data removed]",
            "text/plain": [
              "<Figure size 576x432 with 1 Axes>"
            ]
          },
          "metadata": {
            "tags": []
          }
        }
      ]
    },
    {
      "cell_type": "markdown",
      "metadata": {
        "id": "x_v9Jj8HEOQI",
        "colab_type": "text"
      },
      "source": [
        "Feature \"Glucose\" is by far the most important feature."
      ]
    },
    {
      "cell_type": "markdown",
      "metadata": {
        "id": "cGw2w75dEYHZ",
        "colab_type": "text"
      },
      "source": [
        "**Random Forest**\n",
        "\n",
        "let’s apply a random forest consisting of 100 trees on the diabetes dataset:"
      ]
    },
    {
      "cell_type": "code",
      "metadata": {
        "id": "nSTHlNIiEFva",
        "colab_type": "code",
        "outputId": "b350f966-4918-443a-9bde-0fbb0066877a",
        "colab": {
          "base_uri": "https://localhost:8080/",
          "height": 51
        }
      },
      "source": [
        "from sklearn.ensemble import RandomForestClassifier\n",
        "\n",
        "rf = RandomForestClassifier(n_estimators=100, random_state=0)\n",
        "rf.fit(X_train, y_train)\n",
        "print(\"Accuracy on training set: {:.3f}\".format(rf.score(X_train, y_train)))\n",
        "print(\"Accuracy on test set: {:.3f}\".format(rf.score(X_test, y_test)))"
      ],
      "execution_count": 0,
      "outputs": [
        {
          "output_type": "stream",
          "text": [
            "Accuracy on training set: 1.000\n",
            "Accuracy on test set: 0.786\n"
          ],
          "name": "stdout"
        }
      ]
    },
    {
      "cell_type": "markdown",
      "metadata": {
        "id": "tqmCWkgUFioU",
        "colab_type": "text"
      },
      "source": [
        "The random forest gives us an accuracy of 78.6%, better than the logistic regression model or a single decision tree, without tuning any parameters. However, we can adjust the max_features setting, to see whether the result can be improved."
      ]
    },
    {
      "cell_type": "code",
      "metadata": {
        "id": "fPnJo7VAEeYu",
        "colab_type": "code",
        "outputId": "1d2f2b51-f43b-4fb8-9ff6-9bf1cad286d1",
        "colab": {
          "base_uri": "https://localhost:8080/",
          "height": 51
        }
      },
      "source": [
        "rf1 = RandomForestClassifier(max_depth=3, n_estimators=100, random_state=0)\n",
        "rf1.fit(X_train, y_train)\n",
        "print(\"Accuracy on training set: {:.3f}\".format(rf1.score(X_train, y_train)))\n",
        "print(\"Accuracy on test set: {:.3f}\".format(rf1.score(X_test, y_test)))"
      ],
      "execution_count": 0,
      "outputs": [
        {
          "output_type": "stream",
          "text": [
            "Accuracy on training set: 0.800\n",
            "Accuracy on test set: 0.755\n"
          ],
          "name": "stdout"
        }
      ]
    },
    {
      "cell_type": "markdown",
      "metadata": {
        "id": "Idd7wTwMFuBK",
        "colab_type": "text"
      },
      "source": [
        "It did not, this indicates that the default parameters of the random forest work well.\n",
        "\n",
        "**Feature importance in Random Forest**"
      ]
    },
    {
      "cell_type": "code",
      "metadata": {
        "id": "NrMYQeAuFng4",
        "colab_type": "code",
        "outputId": "633acd9a-304c-449e-8108-bc6a8dd273ad",
        "colab": {
          "base_uri": "https://localhost:8080/",
          "height": 388
        }
      },
      "source": [
        "plot_feature_importances_diabetes(rf)\n",
        "plt.savefig('feature_importance_rf')"
      ],
      "execution_count": 0,
      "outputs": [
        {
          "output_type": "display_data",
          "data": {
            "image/png": "[encoded data removed]",
            "text/plain": [
              "<Figure size 576x432 with 1 Axes>"
            ]
          },
          "metadata": {
            "tags": []
          }
        }
      ]
    },
    {
      "cell_type": "markdown",
      "metadata": {
        "id": "VSPNpfS8GhA-",
        "colab_type": "text"
      },
      "source": [
        "Similarly to the single decision tree, the random forest also gives a lot of importance to the “Glucose” feature, but it also chooses “BMI” to be the 2nd most informative feature overall. The randomness in building the random forest forces the algorithm to consider many possible explanations, the result being that the random forest captures a much broader picture of the data than a single tree."
      ]
    },
    {
      "cell_type": "markdown",
      "metadata": {
        "id": "jFVDkM63GkPx",
        "colab_type": "text"
      },
      "source": [
        "**Gradient Boosting**"
      ]
    },
    {
      "cell_type": "code",
      "metadata": {
        "id": "mhR9tDfeF_8c",
        "colab_type": "code",
        "outputId": "3cf908dd-1730-4732-c7ea-73aa48bd403e",
        "colab": {
          "base_uri": "https://localhost:8080/",
          "height": 51
        }
      },
      "source": [
        "from sklearn.ensemble import GradientBoostingClassifier\n",
        "\n",
        "gb = GradientBoostingClassifier(random_state=0)\n",
        "gb.fit(X_train, y_train)\n",
        "\n",
        "print(\"Accuracy on training set: {:.3f}\".format(gb.score(X_train, y_train)))\n",
        "print(\"Accuracy on test set: {:.3f}\".format(gb.score(X_test, y_test)))"
      ],
      "execution_count": 0,
      "outputs": [
        {
          "output_type": "stream",
          "text": [
            "Accuracy on training set: 0.917\n",
            "Accuracy on test set: 0.792\n"
          ],
          "name": "stdout"
        }
      ]
    },
    {
      "cell_type": "markdown",
      "metadata": {
        "id": "Hrf4hvxkGwfz",
        "colab_type": "text"
      },
      "source": [
        "We are likely to be overfitting. To reduce overfitting, we could either apply stronger pre-pruning by limiting the maximum depth or lower the learning rate:"
      ]
    },
    {
      "cell_type": "code",
      "metadata": {
        "id": "p9ohzkPoGqyg",
        "colab_type": "code",
        "outputId": "7d103986-f355-4ca7-82db-5e541c50f16c",
        "colab": {
          "base_uri": "https://localhost:8080/",
          "height": 51
        }
      },
      "source": [
        "gb1 = GradientBoostingClassifier(random_state=0, max_depth=1)\n",
        "gb1.fit(X_train, y_train)\n",
        "\n",
        "print(\"Accuracy on training set: {:.3f}\".format(gb1.score(X_train, y_train)))\n",
        "print(\"Accuracy on test set: {:.3f}\".format(gb1.score(X_test, y_test)))"
      ],
      "execution_count": 0,
      "outputs": [
        {
          "output_type": "stream",
          "text": [
            "Accuracy on training set: 0.804\n",
            "Accuracy on test set: 0.781\n"
          ],
          "name": "stdout"
        }
      ]
    },
    {
      "cell_type": "code",
      "metadata": {
        "id": "1QMTfoNBHAte",
        "colab_type": "code",
        "outputId": "17a64645-78fc-417e-8c7d-de6ce5189d98",
        "colab": {
          "base_uri": "https://localhost:8080/",
          "height": 51
        }
      },
      "source": [
        "gb2 = GradientBoostingClassifier(random_state=0, learning_rate=0.01)\n",
        "gb2.fit(X_train, y_train)\n",
        "\n",
        "print(\"Accuracy on training set: {:.3f}\".format(gb2.score(X_train, y_train)))\n",
        "print(\"Accuracy on test set: {:.3f}\".format(gb2.score(X_test, y_test)))"
      ],
      "execution_count": 0,
      "outputs": [
        {
          "output_type": "stream",
          "text": [
            "Accuracy on training set: 0.802\n",
            "Accuracy on test set: 0.776\n"
          ],
          "name": "stdout"
        }
      ]
    },
    {
      "cell_type": "markdown",
      "metadata": {
        "id": "XHewLKJzIEDo",
        "colab_type": "text"
      },
      "source": [
        "Both methods of decreasing the model complexity reduced the training set accuracy, as expected. In this case, none of these methods increased the generalization performance of the test set.\n",
        "\n",
        "We can visualize the feature importances to get more insight into our model even though we are not really happy with the model."
      ]
    },
    {
      "cell_type": "code",
      "metadata": {
        "id": "8y-_-JwWHLZ-",
        "colab_type": "code",
        "outputId": "f4e577b5-a9be-4ce2-8d83-d5dfe90731e0",
        "colab": {
          "base_uri": "https://localhost:8080/",
          "height": 388
        }
      },
      "source": [
        "plot_feature_importances_diabetes(gb1)\n"
      ],
      "execution_count": 0,
      "outputs": [
        {
          "output_type": "display_data",
          "data": {
            "image/png": "[encoded data removed]",
            "text/plain": [
              "<Figure size 576x432 with 1 Axes>"
            ]
          },
          "metadata": {
            "tags": []
          }
        }
      ]
    },
    {
      "cell_type": "markdown",
      "metadata": {
        "id": "esgP34sxIUUe",
        "colab_type": "text"
      },
      "source": [
        "We can see that the feature importances of the gradient boosted trees are somewhat similar to the feature importances of the random forests, it gives weight to all of the features in this case."
      ]
    },
    {
      "cell_type": "markdown",
      "metadata": {
        "id": "uJtThiV8IZhm",
        "colab_type": "text"
      },
      "source": [
        "**Support Vector Machine**"
      ]
    },
    {
      "cell_type": "code",
      "metadata": {
        "id": "D1OkGP2FHbbq",
        "colab_type": "code",
        "outputId": "4f7045af-ee65-4899-c15b-e94c8e0cd015",
        "colab": {
          "base_uri": "https://localhost:8080/",
          "height": 51
        }
      },
      "source": [
        "from sklearn.svm import SVC\n",
        "\n",
        "svc = SVC()\n",
        "svc.fit(X_train, y_train)\n",
        "\n",
        "print(\"Accuracy on training set: {:.2f}\".format(svc.score(X_train, y_train)))\n",
        "print(\"Accuracy on test set: {:.2f}\".format(svc.score(X_test, y_test)))"
      ],
      "execution_count": 0,
      "outputs": [
        {
          "output_type": "stream",
          "text": [
            "Accuracy on training set: 0.77\n",
            "Accuracy on test set: 0.76\n"
          ],
          "name": "stdout"
        }
      ]
    },
    {
      "cell_type": "markdown",
      "metadata": {
        "id": "L0iLR7PkInz0",
        "colab_type": "text"
      },
      "source": [
        "The model overfits quite substantially, with a perfect score on the training set and only 65% accuracy on the test set.\n",
        "\n",
        "SVM requires all the features to vary on a similar scale. We will need to rescale our data that all the features are approximately on the same scale:"
      ]
    },
    {
      "cell_type": "code",
      "metadata": {
        "id": "nabZsuSdIhGf",
        "colab_type": "code",
        "outputId": "81d4adc0-3904-4d13-d370-16f2809ec7d2",
        "colab": {
          "base_uri": "https://localhost:8080/",
          "height": 51
        }
      },
      "source": [
        "from sklearn.preprocessing import MinMaxScaler\n",
        "\n",
        "scaler = MinMaxScaler()\n",
        "X_train_scaled = scaler.fit_transform(X_train)\n",
        "X_test_scaled = scaler.fit_transform(X_test)\n",
        "\n",
        "svc = SVC()\n",
        "svc.fit(X_train_scaled, y_train)\n",
        "\n",
        "print(\"Accuracy on training set: {:.2f}\".format(svc.score(X_train_scaled, y_train)))\n",
        "print(\"Accuracy on test set: {:.2f}\".format(svc.score(X_test_scaled, y_test)))"
      ],
      "execution_count": 0,
      "outputs": [
        {
          "output_type": "stream",
          "text": [
            "Accuracy on training set: 0.79\n",
            "Accuracy on test set: 0.80\n"
          ],
          "name": "stdout"
        }
      ]
    },
    {
      "cell_type": "markdown",
      "metadata": {
        "id": "6GRTW8zmKfQc",
        "colab_type": "text"
      },
      "source": [
        "Scaling the data made a huge difference! Now we are actually in an underfitting regime, where training and test set performance are quite similar but less close to 100% accuracy. From here, we can try increasing either C or gamma to fit a more complex model."
      ]
    },
    {
      "cell_type": "code",
      "metadata": {
        "id": "SJEV1Fy_KH4J",
        "colab_type": "code",
        "outputId": "a7a07588-a049-48db-839b-7e23e88c220c",
        "colab": {
          "base_uri": "https://localhost:8080/",
          "height": 51
        }
      },
      "source": [
        "svc = SVC(C=1000)\n",
        "svc.fit(X_train_scaled, y_train)\n",
        "\n",
        "print(\"Accuracy on training set: {:.3f}\".format(\n",
        "    svc.score(X_train_scaled, y_train)))\n",
        "print(\"Accuracy on test set: {:.3f}\".format(svc.score(X_test_scaled, y_test)))"
      ],
      "execution_count": 0,
      "outputs": [
        {
          "output_type": "stream",
          "text": [
            "Accuracy on training set: 0.944\n",
            "Accuracy on test set: 0.724\n"
          ],
          "name": "stdout"
        }
      ]
    },
    {
      "cell_type": "markdown",
      "metadata": {
        "id": "-sw603AqKudy",
        "colab_type": "text"
      },
      "source": [
        "Here, increasing C decreases the model's performance."
      ]
    },
    {
      "cell_type": "code",
      "metadata": {
        "id": "5ltKWCv6Ki4-",
        "colab_type": "code",
        "outputId": "18a98dcc-1450-4b16-b49b-738ab3763d57",
        "colab": {
          "base_uri": "https://localhost:8080/",
          "height": 51
        }
      },
      "source": [
        "svc = SVC(C=0.7)\n",
        "svc.fit(X_train_scaled, y_train)\n",
        "\n",
        "print(\"Accuracy on training set: {:.3f}\".format(\n",
        "    svc.score(X_train_scaled, y_train)))\n",
        "print(\"Accuracy on test set: {:.3f}\".format(svc.score(X_test_scaled, y_test)))"
      ],
      "execution_count": 0,
      "outputs": [
        {
          "output_type": "stream",
          "text": [
            "Accuracy on training set: 0.790\n",
            "Accuracy on test set: 0.802\n"
          ],
          "name": "stdout"
        }
      ]
    },
    {
      "cell_type": "markdown",
      "metadata": {
        "id": "_OwkqpU4L0Ej",
        "colab_type": "text"
      },
      "source": [
        "After checking various values of C , for the values of C around 0.7 only the accuracy is same as the default one.\n",
        "Thus the default one has the best accuracy among the other ones in SVM."
      ]
    },
    {
      "cell_type": "markdown",
      "metadata": {
        "id": "XhUebb1iMu3b",
        "colab_type": "text"
      },
      "source": [
        "**Neural Networks**"
      ]
    },
    {
      "cell_type": "code",
      "metadata": {
        "id": "Ms32OGcXLF_n",
        "colab_type": "code",
        "outputId": "8f02f51e-abee-4f8e-9dda-13a10f1afb98",
        "colab": {
          "base_uri": "https://localhost:8080/",
          "height": 51
        }
      },
      "source": [
        "from sklearn.neural_network import MLPClassifier\n",
        "\n",
        "mlp = MLPClassifier(random_state=42)\n",
        "mlp.fit(X_train, y_train)\n",
        "\n",
        "print(\"Accuracy on training set: {:.2f}\".format(mlp.score(X_train, y_train)))\n",
        "print(\"Accuracy on test set: {:.2f}\".format(mlp.score(X_test, y_test)))"
      ],
      "execution_count": 0,
      "outputs": [
        {
          "output_type": "stream",
          "text": [
            "Accuracy on training set: 0.73\n",
            "Accuracy on test set: 0.72\n"
          ],
          "name": "stdout"
        }
      ]
    },
    {
      "cell_type": "markdown",
      "metadata": {
        "id": "LEYnx1hENDdE",
        "colab_type": "text"
      },
      "source": [
        "The accuracy of the MLP is not as good as the other models at all, this is likely due to scaling of the data. Neural networks also expect all input features to vary in a similar way, and ideally to have a mean of 0, and a variance of 1. We must rescale our data so that it fulfills these requirements."
      ]
    },
    {
      "cell_type": "code",
      "metadata": {
        "id": "-fqqxs5YM_1L",
        "colab_type": "code",
        "outputId": "d94909a0-94e2-4bd2-d110-54fc5299e769",
        "colab": {
          "base_uri": "https://localhost:8080/",
          "height": 105
        }
      },
      "source": [
        "from sklearn.preprocessing import StandardScaler\n",
        "\n",
        "scaler = StandardScaler()\n",
        "X_train_scaled = scaler.fit_transform(X_train)\n",
        "X_test_scaled = scaler.fit_transform(X_test)\n",
        "\n",
        "mlp = MLPClassifier(random_state=0)\n",
        "mlp.fit(X_train_scaled, y_train)\n",
        "\n",
        "print(\"Accuracy on training set: {:.3f}\".format(\n",
        "    mlp.score(X_train_scaled, y_train)))\n",
        "print(\"Accuracy on test set: {:.3f}\".format(mlp.score(X_test_scaled, y_test)))"
      ],
      "execution_count": 0,
      "outputs": [
        {
          "output_type": "stream",
          "text": [
            "Accuracy on training set: 0.823\n",
            "Accuracy on test set: 0.802\n"
          ],
          "name": "stdout"
        },
        {
          "output_type": "stream",
          "text": [
            "/usr/local/lib/python3.6/dist-packages/sklearn/neural_network/_multilayer_perceptron.py:571: ConvergenceWarning: Stochastic Optimizer: Maximum iterations (200) reached and the optimization hasn't converged yet.\n",
            "  % self.max_iter, ConvergenceWarning)\n"
          ],
          "name": "stderr"
        }
      ]
    },
    {
      "cell_type": "markdown",
      "metadata": {
        "id": "hXBr2NpeNQUX",
        "colab_type": "text"
      },
      "source": [
        "The results are much better after scaling.\n",
        "\n",
        "**As a matter of fact, we have obtained the best fit model so far.With the test accuracy of 80.2% we have two models SVM and MLP , but the training accuracy being more in MLP it is the better model between the two.**\n"
      ]
    },
    {
      "cell_type": "markdown",
      "metadata": {
        "id": "kPUtByzhq2lt",
        "colab_type": "text"
      },
      "source": [
        "Let’s try increase the alpha parameter and add stronger regularization of the weights:"
      ]
    },
    {
      "cell_type": "code",
      "metadata": {
        "id": "t6_fDGlXNJZB",
        "colab_type": "code",
        "outputId": "5993f42e-d0d2-4ceb-c45d-67b6b3ecaff1",
        "colab": {
          "base_uri": "https://localhost:8080/",
          "height": 105
        }
      },
      "source": [
        "mlp = MLPClassifier(max_iter=1000, random_state=0)\n",
        "mlp.fit(X_train_scaled, y_train)\n",
        "\n",
        "print(\"Accuracy on training set: {:.3f}\".format(\n",
        "    mlp.score(X_train_scaled, y_train)))\n",
        "print(\"Accuracy on test set: {:.3f}\".format(mlp.score(X_test_scaled, y_test)))"
      ],
      "execution_count": 0,
      "outputs": [
        {
          "output_type": "stream",
          "text": [
            "Accuracy on training set: 0.908\n",
            "Accuracy on test set: 0.792\n"
          ],
          "name": "stdout"
        },
        {
          "output_type": "stream",
          "text": [
            "/usr/local/lib/python3.6/dist-packages/sklearn/neural_network/_multilayer_perceptron.py:571: ConvergenceWarning: Stochastic Optimizer: Maximum iterations (1000) reached and the optimization hasn't converged yet.\n",
            "  % self.max_iter, ConvergenceWarning)\n"
          ],
          "name": "stderr"
        }
      ]
    },
    {
      "cell_type": "code",
      "metadata": {
        "id": "jiUJUCV-PIj0",
        "colab_type": "code",
        "outputId": "33caacd7-7ba8-4bbd-90a7-6ab454c8639c",
        "colab": {
          "base_uri": "https://localhost:8080/",
          "height": 51
        }
      },
      "source": [
        "mlp = MLPClassifier(max_iter=1000, alpha=1, random_state=0)\n",
        "mlp.fit(X_train_scaled, y_train)\n",
        "\n",
        "print(\"Accuracy on training set: {:.3f}\".format(\n",
        "    mlp.score(X_train_scaled, y_train)))\n",
        "print(\"Accuracy on test set: {:.3f}\".format(mlp.score(X_test_scaled, y_test)))"
      ],
      "execution_count": 0,
      "outputs": [
        {
          "output_type": "stream",
          "text": [
            "Accuracy on training set: 0.806\n",
            "Accuracy on test set: 0.797\n"
          ],
          "name": "stdout"
        }
      ]
    },
    {
      "cell_type": "markdown",
      "metadata": {
        "id": "0MHpp1PAqe-k",
        "colab_type": "text"
      },
      "source": [
        "Finally, we plot a heat map of the first layer weights in a neural network learned on the diabetes data set."
      ]
    },
    {
      "cell_type": "code",
      "metadata": {
        "id": "PpNPQQxhPQKz",
        "colab_type": "code",
        "outputId": "091c4878-33af-489f-9572-43f92ff1c16b",
        "colab": {
          "base_uri": "https://localhost:8080/",
          "height": 349
        }
      },
      "source": [
        "plt.figure(figsize=(20, 5))\n",
        "plt.imshow(mlp.coefs_[0], interpolation='none', cmap='viridis')\n",
        "plt.yticks(range(8), diabetes_features)\n",
        "plt.xlabel(\"Columns in weight matrix\")\n",
        "plt.ylabel(\"Input feature\")\n",
        "plt.colorbar()"
      ],
      "execution_count": 0,
      "outputs": [
        {
          "output_type": "execute_result",
          "data": {
            "text/plain": [
              "<matplotlib.colorbar.Colorbar at 0x7f2eae61e6d8>"
            ]
          },
          "metadata": {
            "tags": []
          },
          "execution_count": 79
        },
        {
          "output_type": "display_data",
          "data": {
            "image/png": "[encoded data removed]",
            "text/plain": [
              "<Figure size 1440x360 with 2 Axes>"
            ]
          },
          "metadata": {
            "tags": []
          }
        }
      ]
    },
    {
      "cell_type": "markdown",
      "metadata": {
        "id": "yaqeocb2p-0J",
        "colab_type": "text"
      },
      "source": [
        "From the heat map, it is not easy to point out quickly that which feature (features) have relatively low weights compared to the other features."
      ]
    },
    {
      "cell_type": "markdown",
      "metadata": {
        "id": "f--WDuh6qIHZ",
        "colab_type": "text"
      },
      "source": [
        "# **Summary**\n",
        "\n",
        "We practiced a wide range of machine learning and deep learning models for classification and regression, and how to control model complexity for each of them. We saw that for many of the algorithms, setting the right parameters is important for good performance.\n",
        "\n",
        "**In the end the Neural Networks Multi Layered Perceptron Mode(MLP) with proper scaling and Support Vector Machines(SVM) with proper scaling both gave the same test accuracy (80.2) but the training accuracy being higher in MLP (82.3), it would be a better fit for our data.**\n"
      ]
    },
    {
      "cell_type": "code",
      "metadata": {
        "id": "FsJTCYhzPe_N",
        "colab_type": "code",
        "colab": {}
      },
      "source": [
        ""
      ],
      "execution_count": 0,
      "outputs": []
    }
  ]
}